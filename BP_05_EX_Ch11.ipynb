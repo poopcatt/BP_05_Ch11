{
  "nbformat": 4,
  "nbformat_minor": 0,
  "metadata": {
    "colab": {
      "provenance": [],
      "authorship_tag": "ABX9TyMjzRWHDRzgwWRa032UEOAZ",
      "include_colab_link": true
    },
    "kernelspec": {
      "name": "python3",
      "display_name": "Python 3"
    },
    "language_info": {
      "name": "python"
    }
  },
  "cells": [
    {
      "cell_type": "markdown",
      "metadata": {
        "id": "view-in-github",
        "colab_type": "text"
      },
      "source": [
        "<a href=\"https://colab.research.google.com/github/poopcatt/BP_05_Ch11/blob/main/BP_05_EX_Ch11.ipynb\" target=\"_parent\"><img src=\"https://colab.research.google.com/assets/colab-badge.svg\" alt=\"Open In Colab\"/></a>"
      ]
    },
    {
      "cell_type": "markdown",
      "source": [
        "1. 사용자가 입력한 텍스트 파일을 열어서 파일 안에 글자가 몇 개나 있는지를 계산하는 프로그램을 작성하라."
      ],
      "metadata": {
        "id": "wHqIkeG5EeE2"
      }
    },
    {
      "cell_type": "code",
      "source": [
        "count=0;\n",
        "filename=input(\"파일의 이름을 입력하시오 : \")\n",
        "file = open(filename,\"r\")\n",
        "for file in file:                                        #여러 줄이 있으면 각 줄을 file 변수에 저장\n",
        "    for ch in file:\n",
        "        count+=1                                         #글자 수 더함\n",
        "print(\"파일 안에는 총 %d개의 글자가 있습니다.\"%(count))"
      ],
      "metadata": {
        "id": "imD5ABwlWNjX"
      },
      "execution_count": null,
      "outputs": []
    },
    {
      "cell_type": "markdown",
      "source": [
        "2. 사용자로부터 파일 이름과 삭제할 문자열을 입력받는다. 파일을 열어서 사용자가 원하는 문자열을 삭제한 후에 다시 파일에 쓴다."
      ],
      "metadata": {
        "id": "FHCdcadaEhvb"
      }
    },
    {
      "cell_type": "code",
      "source": [
        "filename = input(\"파일 이름을 입력하세오: \")                     #파일 경로 입력\n",
        "infile = open(filename,\"r\")\n",
        "read_file = infile.readlines()\n",
        "outfile = open(filename, \"w\")\n",
        "del_word = input(\"삭제할 문자열을 입력하시오: \")\n",
        "\n",
        "for line in read_file:                                           #여러 줄이 있으면 한 줄씩 처리\n",
        "    l, r = 0, len(del_word)\n",
        "    new_line = \"\"                                                #삭제하지 않아도 되는 문자열을 저장\n",
        "    while l < len(line):                                         #while문으로 삭제할 단어를 찾아냄\n",
        "        if line[l:r] == del_word:\n",
        "            l += len(del_word)\n",
        "            r += len(del_word)\n",
        "        else:\n",
        "            new_line += line[l]\n",
        "            l+=1\n",
        "            r+=1\n",
        "    print(new_line, file = outfile, end=\"\")                      #new_line에 저장한 문자열을 outfile에 작성\n",
        "\n",
        "infile.close()\n",
        "outfile.close()\n",
        "print(\"변경된 파일이 저장되었습니다.\")"
      ],
      "metadata": {
        "id": "RgiKwEjpEiAZ"
      },
      "execution_count": null,
      "outputs": []
    },
    {
      "cell_type": "markdown",
      "source": [
        "3. 사용자가 입력하는 파일에 있는 각 문자들이 나타내는 빈도를 계산하는 프로그램을 작성하라."
      ],
      "metadata": {
        "id": "O5igkj3lEiat"
      }
    },
    {
      "cell_type": "code",
      "source": [
        "filename=str(input('입력 파일 이름: '))\n",
        "infile=open(filename,\"r\",encoding='utf-8')\n",
        "char_list={}\n",
        "\n",
        "for line in infile :                                     #여러 줄이 있으면 한 줄씩 처리\n",
        "    for word in line:\n",
        "        for letter in word:\n",
        "            if not letter in char_list:\n",
        "                char_list[letter]=0                      #if not문으로 리스트에 없는 글자 적용X\n",
        "            char_list[letter]+=1\n",
        "\n",
        "infile.close()\n",
        "print(char_list)"
      ],
      "metadata": {
        "id": "ro452YzqRlvk"
      },
      "execution_count": null,
      "outputs": []
    },
    {
      "cell_type": "markdown",
      "source": [
        "4. 파이썬에서는 객체를 파일에 저장할 수 있다. pickle 모듈을 사용하여서 정수 12, 실수 3.14, 리스트 [1,2,3,4,5]를 이진 파일 \"test.dat\"에 저장하였다가 다시 읽는 프로그램을 작성하고 테스트하라."
      ],
      "metadata": {
        "id": "VuoI-9BTEjA7"
      }
    },
    {
      "cell_type": "code",
      "source": [
        "import pickle\n",
        "\n",
        "outfile = open(\"test.dat\", \"wb\")          #test.dat에 자료 넣기\n",
        "pickle.dump(12,outfile)\n",
        "pickle.dump(3.14,outfile)\n",
        "pickle.dump([1,2,3,4,5],outfile)\n",
        "outfile.close()\n",
        "\n",
        "infile=open(\"test.dat\",\"rb\")              #test.dat에 있는 자료를 컴퓨터로 불러오기\n",
        "Data_list=[]\n",
        "while True:\n",
        "  try:\n",
        "    Data=pickle.load(infile)\n",
        "  except EOFError:\n",
        "    break\n",
        "  Data_list.append(Data)                 #Data_list 첨부\n",
        "\n",
        "for line in Data_list:                   #여러 줄이 있으면 한 줄씩 처리\n",
        "  print(line)\n",
        "\n",
        "infile.close()"
      ],
      "metadata": {
        "id": "-k0ULllcEjUB"
      },
      "execution_count": null,
      "outputs": []
    },
    {
      "cell_type": "markdown",
      "source": [
        "5. 텍스트 파일 \"data.txt\"에 실수값들이 저장되어 있다고 가정하자. 한 줄에 하나의 실수만 저장되어 있다. 예를 들면 다음과 같다.\n",
        "\n",
        "23.0\n",
        "51.0\n",
        "68.5\n",
        "82.9\n",
        "103.2\n",
        "\n",
        "이 파일을 읽어서 합계와 평균을 계산한 후에 이것을 \"output.txt\" 파일에 다음과 같이 저장하는 프로그램을 작성하라.\n",
        "\n",
        "합계=328.6\n",
        "평균=65.72"
      ],
      "metadata": {
        "id": "NMEdXZsqGO6z"
      }
    },
    {
      "cell_type": "code",
      "source": [
        "filename_input=str(input('입력 파일 이름: '))             #입력 파일 경로\n",
        "filename_output=str(input('출력 파일 이름: '))            #출력 파일 경로\n",
        "\n",
        "infile = open(filename_input, \"r\")\n",
        "fileline = infile.readlines()\n",
        "infile.close()\n",
        "outfile = open(filename_output,\"w\")\n",
        "\n",
        "sum_ = 0\n",
        "avg_ = 0\n",
        "num = 0\n",
        "for x in fileline:\n",
        "    sum_ += float(x)\n",
        "    num += 1\n",
        "avg_ = sum_ / num\n",
        "\n",
        "print(\"합계=\"+str(sum_), file = outfile, end =\"\\n\")\n",
        "print(\"평균=\"+str(avg_), file = outfile)\n",
        "outfile.close()"
      ],
      "metadata": {
        "id": "LaIKHlQkGPGL"
      },
      "execution_count": null,
      "outputs": []
    },
    {
      "cell_type": "markdown",
      "source": [
        "6. tkinter를 사용하여 다음과 같은 사용자 인터페이스를 만든다. \"추가\" 버튼을 누르면\n",
        "사용자가 입력한 이름과 전화 번호 리스트가 파일 \"phone_book.dat\"에 저장된다. \"파일 읽기\"를 누르면 파일 \"phone_book.dat\"에서 이름과 전화 번호를 읽어오는 프로그램을 작성하라.\n"
      ],
      "metadata": {
        "id": "xS4UKnABGPLo"
      }
    },
    {
      "cell_type": "code",
      "source": [
        "from tkinter import *\n",
        "import pickle\n",
        "window = Tk()\n",
        "filename=\"D:\\\\phone_book.dat\"\n",
        "button_list = ['추가', '처음', '다음','이전','마지막','파일 읽기']\n",
        "\n",
        "lab_name = Label(window, width =7, text='이름')\n",
        "lab_name.grid(row=0, column=0,columnspan = 2)\n",
        "\n",
        "lab_phone = Label(window, width = 7, text='전화번호')\n",
        "lab_phone.grid(row=1, column=0,columnspan = 2)\n",
        "\n",
        "entry_name = Entry(window, width=20)\n",
        "entry_name.grid(row=0, column=2, columnspan = 4)\n",
        "\n",
        "entry_phone = Entry(window, width=20)\n",
        "entry_phone.grid(row=1, column=2, columnspan = 4)\n",
        "\n",
        "phone_book = {} \n",
        "\n",
        "\n",
        "def click(key):\n",
        "    global phone_book\n",
        "    if key == '추가':\n",
        "        if not entry_name.get() in phone_book:\n",
        "            phone_book[entry_name.get()] = entry_phone.get()\n",
        "                \n",
        "    elif key == '처음':\n",
        "        print('기능미구현')\n",
        "            \n",
        "    elif key == '다음':\n",
        "        print('기능미구현')\n",
        "\n",
        "    elif key == '이전':\n",
        "        print('기능미구현')\n",
        "            \n",
        "    elif key == '마지막':\n",
        "        print('기능미구현')\n",
        "\n",
        "    elif key == '파일 읽기':\n",
        "        if entry_name.get() in phone_book:\n",
        "            outfile=open(filename,'wb')\n",
        "            pickle.dump(phone_book, outfile)\n",
        "            outfile.close()\n",
        "            infile=open(filename,'rb')\n",
        "            print(pickle.load(infile))\n",
        "\n",
        "\n",
        "num = 0\n",
        "for i in button_list:\n",
        "    def work(key = i):\n",
        "        click(key)\n",
        "    Button(window, text = i, command = work).grid(row = 3, column = num)\n",
        "    num += 1\n",
        "\n",
        "window.mainloop()\n"
      ],
      "metadata": {
        "id": "Z8ke3QrZGPPX"
      },
      "execution_count": null,
      "outputs": []
    }
  ]
}